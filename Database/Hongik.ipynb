{
 "cells": [
  {
   "cell_type": "code",
   "execution_count": 1,
   "metadata": {
    "collapsed": true
   },
   "outputs": [],
   "source": [
    "## 로그인\n",
    "\n",
    "from selenium import webdriver\n",
    "from bs4 import BeautifulSoup as bs\n",
    "from urllib.parse import quote\n",
    "import pandas as pd\n",
    "import time\n",
    "import random\n",
    "import os\n",
    "driver = webdriver.Chrome('chromedriver.exe')\n",
    "soup = bs(driver.page_source, 'html.parser')\n",
    "driver.implicitly_wait(3)\n",
    "\n",
    "insta_ID=input(\"ID를 입력해주세요 : \")\n",
    "insta_PW=input(\"PW를 입력해주세요 : \")\n",
    "\n",
    "driver.get('http://www.hongik.ac.kr/login.do?Refer=https://cn.hongik.ac.kr/stud/')\n",
    "\n",
    "driver.find_element_by_name('USER_ID').send_keys(insta_ID)\n",
    "driver.find_element_by_name('PASSWD').send_keys(insta_PW)\n",
    "\n",
    "driver.find_element_by_css_selector('button').click()"
   ]
  },
  {
   "cell_type": "markdown",
   "metadata": {},
   "source": [
    "## 팝업종료, 세부 접속"
   ]
  },
  {
   "cell_type": "code",
   "execution_count": 2,
   "metadata": {
    "collapsed": true
   },
   "outputs": [],
   "source": [
    "try:\n",
    "    driver.find_element_by_name('no_show').click()\n",
    "except:\n",
    "    print(\"no pop-up\")\n",
    "driver.get('https://cn.hongik.ac.kr/stud/C/02000/02020.jsp')"
   ]
  },
  {
   "cell_type": "markdown",
   "metadata": {},
   "source": [
    "## 카테고리 접근 경로"
   ]
  },
  {
   "cell_type": "code",
   "execution_count": 3,
   "metadata": {
    "collapsed": true
   },
   "outputs": [],
   "source": [
    "arr = [[4, 7, 16, 0], [4, 8, 17, 0], [5, 7, 19, 0], [5, 7, 20, 30], [5, 7, 21, 30],\n",
    "       [5, 7, 22, 30], [5, 7, 23, 30], [5, 7, 24, 30], [5, 8, 19, 25], [5, 9, 19, 28],\n",
    "       [5, 9, 20, 28], [5, 9, 21, 28], [5, 9, 22, 28], [5, 10, 19, 29], [5, 10, 20, 29],\n",
    "       [5, 10, 21, 29], [5, 10, 22, 29], [5, 10, 23, 29], [5, 11, 19, 0], [5, 11, 20, 35],\n",
    "       [5, 11, 21, 35], [5, 11, 22, 35], [5, 11, 23, 35], [5, 11, 24, 35], [5, 11, 25, 35],\n",
    "       [5, 11, 26, 35], [5, 11, 27, 35], [5, 11, 28, 35], [5, 11, 29, 35], [5, 12, 19, 26],\n",
    "       [5, 13, 19, 0], [5, 13, 20, 26], [5, 14, 19, 25], [5, 15, 19, 25], [5, 16, 19, 31],\n",
    "       [5, 16, 20, 31], [5, 16, 21, 31], [5, 16, 22, 31], [5, 16, 23, 31], [5, 16, 24, 31],\n",
    "       [5, 16, 25, 31]]"
   ]
  },
  {
   "cell_type": "markdown",
   "metadata": {},
   "source": [
    "## 카테고리 접근"
   ]
  },
  {
   "cell_type": "code",
   "execution_count": 5,
   "metadata": {
    "collapsed": true
   },
   "outputs": [],
   "source": [
    "category = driver.find_elements_by_css_selector('option')\n",
    "for i in range(1):\n",
    "    category[arr[i][0]].click()\n",
    "    time.sleep(1)\n",
    "    category[arr[i][1]].click()\n",
    "    time.sleep(1)\n",
    "    try:\n",
    "        category[arr[i][2]].click()    \n",
    "    except:\n",
    "        print(\"왜이러지..\")\n",
    "    time.sleep(1)\n",
    "    if arr[i][3] != 0:\n",
    "        category[arr[i][3]].click()\n",
    "        time.sleep(3)\n",
    "    "
   ]
  },
  {
   "cell_type": "markdown",
   "metadata": {},
   "source": [
    "## 정보 수집 과정"
   ]
  },
  {
   "cell_type": "code",
   "execution_count": 6,
   "metadata": {
    "scrolled": true
   },
   "outputs": [
    {
     "name": "stdout",
     "output_type": "stream",
     "text": [
      "5, 0\n",
      "6, 교양과(서울)\n",
      "7, 교양필수\n",
      "8, 교양필수\n",
      "9, 교양필수\n",
      "10, 001009-1\n",
      "11, 영어\n",
      "12, 3\n",
      "13, 12\n",
      "14, 0/0/3/26\n",
      "15, 2/2/2/8/12\n",
      "16, 10\n",
      "17, Andro N. Paris\n",
      "18, 화56,금5\n",
      "19, D0103-2,D0103-2\n",
      "20, 불가\n"
     ]
    }
   ],
   "source": [
    "soup = bs(driver.page_source, 'html.parser')\n",
    "posts = soup.select('div.summary.mato5.bold')[0].get_text()\n",
    "subject_count = int(posts[11:])\n",
    "subject_count = subject_count*16 + 5\n",
    "# 과목당 16개 칼럼\n",
    "for i in range(5, 21):\n",
    "    try:\n",
    "        contents = soup.select('td')[i].get_text()\n",
    "        if (i-4)%16==7:\n",
    "            contents = contents[1:3]\n",
    "        if (i-4)%16==0:\n",
    "            contents = contents[14:16]\n",
    "        print(str(i)+\", \"+contents)\n",
    "    except:\n",
    "        print(\"finish\")"
   ]
  },
  {
   "cell_type": "markdown",
   "metadata": {},
   "source": [
    "## parsing의 parameter 설정"
   ]
  },
  {
   "cell_type": "code",
   "execution_count": 13,
   "metadata": {
    "collapsed": true
   },
   "outputs": [],
   "source": [
    "temp_count = soup.select('td')[12].get_text()\n",
    "temp_contents = soup.select('td')[18].get_text()"
   ]
  },
  {
   "cell_type": "markdown",
   "metadata": {},
   "source": [
    "## 예제"
   ]
  },
  {
   "cell_type": "code",
   "execution_count": 4,
   "metadata": {},
   "outputs": [
    {
     "name": "stdout",
     "output_type": "stream",
     "text": [
      "월6화6\n",
      "월6월7\n",
      "화1화2\n",
      "월6월7\n",
      "월9월10\n",
      "월5월6월7\n",
      "화10화11\n",
      "\n",
      "화1화2\n",
      "화4화5금8금9\n",
      "월6목6목7월7\n",
      "화7수7목7목8\n",
      "월8금9금10월9\n",
      "화8화9금6금7\n",
      "월9월10금8금9\n",
      "화6화7금10금11\n",
      "월10월11수10수11\n",
      "월1월2월3월4\n",
      "월1월2월3월4월5월6\n",
      "화7화8화9금7금8금9\n",
      "월6월7월8월9목6목7목8목9\n"
     ]
    }
   ],
   "source": [
    "print(parsing(1, \"월6,화6\"))\n",
    "print(parsing(1, \"월67\"))\n",
    "print(parsing(2, \"화1,화2\"))\n",
    "print(parsing(2, \"월67\"))\n",
    "print(parsing(2, \"월910\"))\n",
    "print(parsing(2, \"월567\"))\n",
    "print(parsing(2, \"화1011\"))\n",
    "print(parsing(2, \"\"))\n",
    "print(parsing(2, \"화1,화2\"))\n",
    "print(parsing(4, \"화45,금8,금9\"))\n",
    "print(parsing(4, \"월6,목67,월7\"))\n",
    "print(parsing(4, \"화7,수7,목78\"))\n",
    "print(parsing(4, \"월8,금910,월9\"))\n",
    "print(parsing(4, \"화89,금67\"))\n",
    "print(parsing(4, \"월910,금89\"))\n",
    "print(parsing(4, \"화67,금1011\"))\n",
    "print(parsing(4, \"월1011,수1011\"))\n",
    "print(parsing(4, \"월1234\"))\n",
    "print(parsing(6, \"월123456\"))\n",
    "print(parsing(6, \"화789,금789\"))\n",
    "print(parsing(6, \"월6789,목6789\"))"
   ]
  },
  {
   "cell_type": "markdown",
   "metadata": {},
   "source": [
    "## parsing"
   ]
  },
  {
   "cell_type": "code",
   "execution_count": 1,
   "metadata": {
    "collapsed": true
   },
   "outputs": [],
   "source": [
    "def parsing(count, contents):\n",
    "    length = len(contents)\n",
    "\n",
    "    try:\n",
    "        temp = contents[0]\n",
    "        temp1 = contents[1]\n",
    "        temp2 = contents[2]\n",
    "        temp3 = contents[3]\n",
    "        temp4 = contents[4]\n",
    "        temp5 = contents[5]\n",
    "        temp6 = contents[6]   \n",
    "    except:\n",
    "        print(\"\", end=\"\")\n",
    "    \n",
    "    temp_arr = contents.split(',')\n",
    "    split_len = len(temp_arr)\n",
    "\n",
    "    \n",
    "    if count == 1:\n",
    "        # 교시가 10의 자리인 경우 파싱하지 않음\n",
    "        try:\n",
    "            temp_arr[1] = temp_arr[1]\n",
    "            return temp_arr[0]+temp_arr[1]  # ex. 월6,화7\n",
    "        except:\n",
    "            return temp+temp1+temp+temp2  # ex. 월67\n",
    "    elif count == 2:\n",
    "        try:\n",
    "            temp_arr[1] = temp_arr[1]\n",
    "            return temp_arr[0]+temp_arr[1]  # ex. 화1,화2\n",
    "        except:\n",
    "            if length == 2:\n",
    "                return contents  # ex. 월1\n",
    "            elif length == 3:\n",
    "                return temp+temp1+temp+temp2  # ex. 월67\n",
    "            elif length == 4:\n",
    "                if contents[1:]=='910':\n",
    "                    temp2 = contents[2:]\n",
    "                    return temp+temp1+temp+temp2  # ex. 월910\n",
    "                else:\n",
    "                    return temp+temp1+temp+temp2+temp+temp3  # ex. 월567                \n",
    "            elif length == 5:\n",
    "                temp1 = contents[1:3]\n",
    "                temp2 = contents[3:]\n",
    "                return temp+temp1+temp+temp2  # ex. 화1011\n",
    "            elif contents==\"\":\n",
    "                return contents  # 비어있는 경우\n",
    "    elif count == 3:\n",
    "        # 같은경우 재끼는 def 필요?\n",
    "        # 화10,수10,목10\n",
    "            # 3개, 11개\n",
    "        # 수9,수10,수11\n",
    "            # 3개, 10개, 1 2 2\n",
    "        # 월10,화10,목9\n",
    "            # 3개, 10개, 2 2 1\n",
    "        # 화56,목5,화56\n",
    "            # 3개, 10개, 2 1 2 *  \n",
    "        # 화2,수2,목2\n",
    "            # 3개, 8개\n",
    "\n",
    "        # 월1011,수1011\n",
    "            # 2개, 11개\n",
    "        # 화1011,목10\n",
    "            # 2개, 9개, 22 2\n",
    "        # 월910,수910\n",
    "            # 2개, 9개, 12 12\n",
    "        # 목234,목234\n",
    "            # 2개, 9개, 111 111 *\n",
    "        # 수8910,수10\n",
    "            # 2개, 9개, 112 2 *\n",
    "        # 화234,화34\n",
    "            # 2개, 8개, 111 11 *\n",
    "        # 월9,수1011\n",
    "            # 2개, 8개, 1 22    \n",
    "        # 월789,화7\n",
    "            # 2개, 7개, 111 1\n",
    "        # 화34,목34\n",
    "            # 2개, 7개, 11 11\n",
    "        # 화1,수910\n",
    "            # 2개, 7개, 1 12\n",
    "        # 목789,목9\n",
    "            # 2개, 7개, 111 1 *\n",
    "        # 금567,금7\n",
    "            # 2개, 7개, 111 1 *\n",
    "        # 화89,금10\n",
    "            # 2개, 7개, 11 2\n",
    "        # 월910,수9\n",
    "            # 2개, 7개, 12 1      \n",
    "        # 월12,목1\n",
    "            # 2개, 6개, 11 1\n",
    "        # 월7,목34\n",
    "            # 2개, 6개, 1 11\n",
    "\n",
    "        # 화111213\n",
    "            # 1개, 7개, 222\n",
    "        # 수678910\n",
    "            # 1개, 7개, 11112       \n",
    "        # 수91011\n",
    "            # 1개, 6개, 122\n",
    "        # 수12345\n",
    "            # 1개, 6개, 11111\n",
    "        # 월78910\n",
    "            # 1개, 6개, 1112     \n",
    "        # 목8910\n",
    "            # 1개, 5개, 112\n",
    "        # 월6789\n",
    "            # 1개, 5개, 1111       \n",
    "        # 목567\n",
    "            # 1개, 4개\n",
    "        # \"\"\n",
    "            # 1개, 0개\n",
    "\n",
    "        print(contents)\n",
    "    elif count == 4:\n",
    "        if split_len==3:\n",
    "            a0 = temp_arr[0][0]\n",
    "            a1 = temp_arr[0][1]                \n",
    "            b0 = temp_arr[1][0]\n",
    "            b1 = temp_arr[1][1]                \n",
    "            c0 = temp_arr[2][0]\n",
    "            c1 = temp_arr[2][1]\n",
    "            if length==9:\n",
    "                if is_num(contents[2]):\n",
    "                    a2 = temp_arr[0][2]\n",
    "                    return a0+a1+a0+a2+b0+b1+c0+c1  # 화45,금8,금9\n",
    "                elif is_num(contents[4]) and is_num(contents[5]):\n",
    "                    b2 = temp_arr[1][2]\n",
    "                    return a0+a1+b0+b1+b0+b2+c0+c1  # 월6,목67,월7\n",
    "                elif is_num(contents[7]):\n",
    "                    c2 = temp_arr[2][2]\n",
    "                    return a0+a1+b0+b1+c0+c1+c0+c2  # 화7,수7,목78\n",
    "            elif length==10:\n",
    "                b2 = temp_arr[1][2:]\n",
    "                return a0+a1+b0+b1+b0+b2+c0+c1  # 월8,금910,월9\n",
    "        elif split_len==2:\n",
    "            a0 = temp_arr[0][0]\n",
    "            a1 = temp_arr[0][1]                \n",
    "            b0 = temp_arr[1][0]\n",
    "            b1 = temp_arr[1][1]            \n",
    "            if length==7:\n",
    "                a2 = temp_arr[0][2]\n",
    "                b2 = temp_arr[1][2]\n",
    "                return a0+a1+a0+a2+b0+b1+b0+b2  # 화89,금67\n",
    "            elif length==8:\n",
    "                a2 = temp_arr[0][2:]\n",
    "                b2 = temp_arr[1][2]\n",
    "                return a0+a1+a0+a2+b0+b1+b0+b2  # 월910,금89\n",
    "            elif length==9:\n",
    "                a2 = temp_arr[0][2]\n",
    "                b1 = temp_arr[1][1:3]\n",
    "                b2 = temp_arr[1][3:]\n",
    "                return a0+a1+a0+a2+b0+b1+b0+b2  # 화67,금1011\n",
    "            elif length==11:\n",
    "                a1 = temp_arr[0][1:3]\n",
    "                a2 = temp_arr[0][3:]\n",
    "                b1 = temp_arr[1][1:3]\n",
    "                b2 = temp_arr[1][3:]\n",
    "                return a0+a1+a0+a2+b0+b1+b0+b2  # 월1011,수1011\n",
    "        elif split_len==1:\n",
    "            return temp+temp1+temp+temp2+temp+temp3+temp+temp4  # 월1234\n",
    "        \n",
    "    elif count == 6:\n",
    "        length = len(contents)\n",
    "        if length == 7:\n",
    "            return temp+temp1+temp+temp2+temp+temp3+temp+temp4+temp+temp5+temp+temp6  # 월456789\n",
    "        elif length == 9:\n",
    "            temp = temp_arr[0][0]\n",
    "            temp1 = temp_arr[0][1]\n",
    "            temp2 = temp_arr[0][2]\n",
    "            temp3 = temp_arr[0][3]\n",
    "            temp4 = temp_arr[1][0]\n",
    "            temp5 = temp_arr[1][1]\n",
    "            temp6 = temp_arr[1][2]\n",
    "            temp7 = temp_arr[1][3]    \n",
    "            return temp+temp1+temp+temp2+temp+temp3+temp4+temp5+temp4+temp6+temp4+temp7  # 화789,금789\n",
    "        elif length == 11:\n",
    "            temp = temp_arr[0][0]\n",
    "            temp1 = temp_arr[0][1]\n",
    "            temp2 = temp_arr[0][2]\n",
    "            temp3 = temp_arr[0][3]\n",
    "            temp4 = temp_arr[0][4]\n",
    "            temp5 = temp_arr[1][0]\n",
    "            temp6 = temp_arr[1][1]\n",
    "            temp7 = temp_arr[1][2]               \n",
    "            temp8 = temp_arr[1][3]               \n",
    "            temp9 = temp_arr[1][4]               \n",
    "            return temp+temp1+temp+temp2+temp+temp3+temp+temp4+temp5+temp6+temp5+temp7+temp5+temp8+temp5+temp9  # 월6789,목6789\n",
    "    else:\n",
    "        print(\"something error\")\n"
   ]
  },
  {
   "cell_type": "markdown",
   "metadata": {},
   "source": [
    "## is_num def"
   ]
  },
  {
   "cell_type": "code",
   "execution_count": 3,
   "metadata": {
    "collapsed": true
   },
   "outputs": [],
   "source": [
    "def is_num(num):\n",
    "    if num==\"1\" or num==\"2\" or num==\"3\" or num==\"4\" or num==\"5\" or num==\"6\" or num==\"7\" or num==\"8\" or num==\"9\" or num==\"0\":\n",
    "        return 1\n",
    "    else :\n",
    "        return 0"
   ]
  },
  {
   "cell_type": "code",
   "execution_count": null,
   "metadata": {
    "collapsed": true
   },
   "outputs": [],
   "source": []
  },
  {
   "cell_type": "code",
   "execution_count": null,
   "metadata": {
    "collapsed": true
   },
   "outputs": [],
   "source": []
  },
  {
   "cell_type": "code",
   "execution_count": null,
   "metadata": {
    "collapsed": true
   },
   "outputs": [],
   "source": []
  },
  {
   "cell_type": "code",
   "execution_count": null,
   "metadata": {
    "collapsed": true
   },
   "outputs": [],
   "source": []
  },
  {
   "cell_type": "code",
   "execution_count": null,
   "metadata": {
    "collapsed": true
   },
   "outputs": [],
   "source": []
  },
  {
   "cell_type": "code",
   "execution_count": null,
   "metadata": {
    "collapsed": true
   },
   "outputs": [],
   "source": []
  },
  {
   "cell_type": "code",
   "execution_count": null,
   "metadata": {
    "collapsed": true
   },
   "outputs": [],
   "source": []
  },
  {
   "cell_type": "code",
   "execution_count": null,
   "metadata": {
    "collapsed": true
   },
   "outputs": [],
   "source": []
  },
  {
   "cell_type": "markdown",
   "metadata": {},
   "source": [
    "## 분석자료"
   ]
  },
  {
   "cell_type": "markdown",
   "metadata": {},
   "source": [
    "4행 41열 배열 만들어서 41번 반복하면서 탐색, 크롤링\n",
    "4 7 16\n",
    "4 8 17\n",
    "5 7 19\n",
    "5 7 20 30\n",
    "5 7 21 30\n",
    "5 7 22 30\n",
    "5 7 23 30\n",
    "5 7 24 30\n",
    "5 8 19 25\n",
    "5 9 19 28\n",
    "5 9 20 28\n",
    "5 9 21 28\n",
    "5 9 22 28\n",
    "5 10 19 29\n",
    "5 10 20 29\n",
    "5 10 21 29\n",
    "5 10 22 29\n",
    "5 10 23 29\n",
    "5 11 19\n",
    "5 11 20 35\n",
    "5 11 21 35\n",
    "5 11 22 35\n",
    "5 11 23 35\n",
    "5 11 24 35\n",
    "5 11 25 35\n",
    "5 11 26 35\n",
    "5 11 27 35\n",
    "5 11 28 35\n",
    "5 11 29 35\n",
    "5 12 19 26\n",
    "5 13 19\n",
    "5 13 20 26\n",
    "5 14 19 25\n",
    "5 15 19 25\n",
    "5 16 19 31\n",
    "5 16 20 31\n",
    "5 16 21 31\n",
    "5 16 22 31\n",
    "5 16 23 31\n",
    "5 16 24 31\n",
    "5 16 25 31"
   ]
  },
  {
   "cell_type": "markdown",
   "metadata": {},
   "source": [
    "1: 서울\n",
    "4: 교양\n",
    "    7: 아빅교양\n",
    "        16: 전체\n",
    "    8: 일반교양\n",
    "        17: 전체\n",
    "5: 전공\n",
    "    7: 공과대학\n",
    "        19:전공공통\n",
    "        20~24\n",
    "            30: 전체학년\n",
    "    8: 경영대학\n",
    "        19: 경영학부\n",
    "            25: 전체학년\n",
    "    9: 문과대학\n",
    "        19~22\n",
    "            28: 전체학년\n",
    "    10: 사범대학\n",
    "        19~23\n",
    "            29: 전체학년\n",
    "    11: 미술대학\n",
    "        19: 전공공통\n",
    "        20~29\n",
    "            35: 전체학년\n",
    "    12: 건축대학\n",
    "        19: 건축학부\n",
    "            26: 전체학년\n",
    "    13: 법과대학\n",
    "        19: 전공공통\n",
    "        20: 법학부\n",
    "            26: 전체학년\n",
    "    14: 경제학부\n",
    "        19: 경제학부\n",
    "            25: 전체학년\n",
    "    15: 산업정보융합학부\n",
    "        19: 디자인경영융합학부\n",
    "            25: 전체학년\n",
    "    16: 융합전공\n",
    "        19~25\n",
    "            31: 전체학년"
   ]
  }
 ],
 "metadata": {
  "kernelspec": {
   "display_name": "Python 3",
   "language": "python",
   "name": "python3"
  },
  "language_info": {
   "codemirror_mode": {
    "name": "ipython",
    "version": 3
   },
   "file_extension": ".py",
   "mimetype": "text/x-python",
   "name": "python",
   "nbconvert_exporter": "python",
   "pygments_lexer": "ipython3",
   "version": "3.6.1"
  }
 },
 "nbformat": 4,
 "nbformat_minor": 2
}
